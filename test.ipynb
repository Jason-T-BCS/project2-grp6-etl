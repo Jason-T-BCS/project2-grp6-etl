{
 "cells": [
  {
   "cell_type": "code",
   "execution_count": 6,
   "metadata": {},
   "outputs": [
    {
     "ename": "SyntaxError",
     "evalue": "invalid syntax (<ipython-input-6-64cfaaf42111>, line 6)",
     "output_type": "error",
     "traceback": [
      "\u001b[0;36m  File \u001b[0;32m\"<ipython-input-6-64cfaaf42111>\"\u001b[0;36m, line \u001b[0;32m6\u001b[0m\n\u001b[0;31m    for (year in years),\u001b[0m\n\u001b[0m                        ^\u001b[0m\n\u001b[0;31mSyntaxError\u001b[0m\u001b[0;31m:\u001b[0m invalid syntax\n"
     ]
    }
   ],
   "source": [
    "needs(rjson, dplyr)\n",
    "\n",
    "years = seq(1979, 2019)\n",
    "out = data_frame(days=seq(91,304))\n",
    "\n",
    "for (year in years),\n",
    "  print(year)\n",
    "  d1 <- fromJSON(readLines(paste0('https://nsidc.org/api/greenland/melt_area/', year)))\n",
    "  d2 <- data_frame(time=as.Date(names(unlist(d1))), x=unlist(d1)) %>%\n",
    "    rename_at(c('x'), function(x) { year }) %>%\n",
    "    mutate(days=as.numeric(time - as.Date(paste0(year,'-01-01'))+1)) %>%\n",
    "    select(-time)\n",
    "  out <- out %>% left_join(d2, by = 'days')\n",
    "\n",
    "write.csv(out, \"greenland-ice.csv\")"
   ]
  },
  {
   "cell_type": "code",
   "execution_count": null,
   "metadata": {},
   "outputs": [],
   "source": []
  }
 ],
 "metadata": {
  "kernelspec": {
   "display_name": "Python 3",
   "language": "python",
   "name": "python3"
  },
  "language_info": {
   "codemirror_mode": {
    "name": "ipython",
    "version": 3
   },
   "file_extension": ".py",
   "mimetype": "text/x-python",
   "name": "python",
   "nbconvert_exporter": "python",
   "pygments_lexer": "ipython3",
   "version": "3.7.3"
  }
 },
 "nbformat": 4,
 "nbformat_minor": 2
}
