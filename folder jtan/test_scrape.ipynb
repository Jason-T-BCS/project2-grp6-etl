{
 "cells": [
  {
   "cell_type": "code",
   "execution_count": 35,
   "metadata": {},
   "outputs": [
    {
     "name": "stdout",
     "output_type": "stream",
     "text": [
      "Batting AB R H RBI BB SO PA BA OBP SLG OPS Pit Str WPA aLI WPA+ WPA- RE24 PO A Details\n",
      "Kyle Schwarber LF 3 0 2 0 0 1 4 .667 .750 1.000 1.750 20 10 0.170 1.75 0.196 -0.026 1.1 2 0 2B,HBP\n",
      "Kris Bryant 3B 4 0 0 0 0 3 4 .000 .000 .000 .000 19 13 -0.260 2.31 0.000 -0.260 -1.6 0 0 \n",
      "Anthony Rizzo 1B 4 0 1 0 0 1 4 .250 .250 .250 .500 14 8 -0.214 2.74 0.035 -0.249 -0.9 5 0 \n",
      "Ben Zobrist RF 3 1 0 0 0 0 4 .000 .250 .000 .250 14 9 -0.099 1.19 0.038 -0.137 -0.9 1 0 HBP,GDP\n",
      "Addison Russell SS 4 0 1 0 0 2 4 .250 .250 .250 .500 17 11 -0.048 0.94 0.025 -0.072 -0.6 5 3 \n",
      "Jason Heyward CF 4 1 1 0 0 1 4 .250 .250 .250 .500 17 10 -0.049 1.12 0.046 -0.095 -0.2 3 0 \n",
      "Willson Contreras C 4 1 2 3 0 2 4 .500 .500 1.250 1.750 16 10 0.412 1.42 0.446 -0.034 2.5 8 0 HR\n",
      "Jon Lester P 2 0 0 0 0 1 2 .000 .000 .000 .000 7 5 -0.040 0.78 0.000 -0.040 -0.3 0 1 \n",
      "Carl Edwards P 0 0 0 0 0 0 0        0.00   0.0 0 0 \n",
      "Koji Uehara P 0 0 0 0 0 0 0        0.00   0.0 0 0 \n",
      "Tommy La Stella PH 1 0 0 0 0 0 1 .000 .000 .000 .000 4 3 -0.081 3.49 0.000 -0.081 -0.4   \n",
      "Pedro Strop P 0 0 0 0 0 0 0        0.00   0.0 0 0 \n",
      "Jon Jay PH 1 0 0 0 0 1 1 .000 .000 .000 .000 4 4 -0.045 1.81 0.000 -0.045 -0.2   \n",
      "Mike Montgomery P 0 0 0 0 0 0 0        0.00   0.0 0 0 \n",
      "Javier Baez 2B 4 0 1 0 0 0 4 .250 .250 .250 .500 11 8 -0.005 1.60 0.085 -0.089 -0.1 2 4 \n",
      "Team Totals 34 3 8 3 0 12 36 .235 .278 .353 .631 143 91 -0.259 1.64 0.871 -1.128 -1.6 26 8 \n",
      "Batting AB R H RBI BB SO PA BA OBP SLG OPS Pit Str WPA aLI WPA+ WPA- RE24 PO A Details\n",
      "Dexter Fowler CF 4 1 1 0 1 0 5 .250 .400 .250 .650 19 10 0.021 0.72 0.068 -0.047 -0.0 2 0 \n",
      "Aledmys Diaz SS 5 0 2 0 0 0 5 .400 .400 .600 1.000 17 12 0.112 0.90 0.158 -0.046 0.8 3 1 2B,2·SB\n",
      "Matt Carpenter 1B 4 0 1 1 0 0 5 .250 .200 .250 .450 26 13 -0.121 1.31 0.012 -0.133 -1.1 5 1 SF\n",
      "Jhonny Peralta 3B 4 0 1 0 0 3 4 .250 .250 .250 .500 17 13 -0.075 1.00 0.016 -0.091 -0.8 0 1 \n",
      "Seung-hwan Oh P 0 0 0 0 0 0 0        0.00   0.0 0 0 \n",
      "Jose Martinez PH 1 1 1 0 0 0 1 1.000 1.000 2.000 3.000 4 2 0.118 1.81 0.118 0.000 0.4   2B\n",
      "Yadier Molina C 3 0 2 0 2 0 5 .667 .800 .667 1.467 20 11 0.052 1.53 0.089 -0.037 0.7 12 0 IW\n",
      "Stephen Piscotty RF 3 1 1 0 2 2 5 .333 .600 .333 .933 25 14 -0.020 1.85 0.122 -0.142 0.6 3 0 \n",
      "Jedd Gyorko 2B 2 0 0 0 0 1 2 .000 .000 .000 .000 10 6 -0.076 1.38 0.000 -0.076 -0.8 0 1 \n",
      "Kolten Wong PH-2B 2 0 0 0 1 0 3 .000 .333 .000 .333 12 6 0.030 2.12 0.064 -0.034 -0.1 0 0 \n",
      "Randal Grichuk LF 4 1 2 3 1 1 5 .500 .600 1.250 1.850 23 15 0.386 2.22 0.447 -0.061 2.3 0 0 HR\n",
      "Carlos Martinez P 3 0 0 0 0 1 3 .000 .000 .000 .000 16 10 -0.187 1.45 0.000 -0.187 -2.1 2 1 GDP\n",
      "Greg Garcia 3B 0 0 0 0 1 0 1  1.000   5 1 0.003 0.09 0.003 0.000 0.3 0 0 \n",
      "Team Totals 35 4 11 4 8 8 44 .314 .432 .457 .889 194 113 0.243 1.40 1.097 -0.854 0.2 27 5 \n"
     ]
    }
   ],
   "source": [
    "import requests\n",
    "from bs4 import BeautifulSoup, Comment\n",
    "\n",
    "res = requests.get(\"https://www.baseball-reference.com/boxes/SLN/SLN201704020.shtml\")\n",
    "soup = BeautifulSoup(res.text, 'lxml')\n",
    "for comment in soup.find_all(string=lambda text:isinstance(text,Comment)):\n",
    "    data = BeautifulSoup(comment,\"lxml\")\n",
    "    for items in data.select(\"#ChicagoCubsbatting tr,#StLouisCardinalsbatting tr\"):\n",
    "        tds = ' '.join([' '.join(item.text.split()) for item in items.select(\"th,td\")])\n",
    "        print(tds)"
   ]
  },
  {
   "cell_type": "code",
   "execution_count": null,
   "metadata": {},
   "outputs": [],
   "source": []
  }
 ],
 "metadata": {
  "kernelspec": {
   "display_name": "Python 3",
   "language": "python",
   "name": "python3"
  },
  "language_info": {
   "codemirror_mode": {
    "name": "ipython",
    "version": 3
   },
   "file_extension": ".py",
   "mimetype": "text/x-python",
   "name": "python",
   "nbconvert_exporter": "python",
   "pygments_lexer": "ipython3",
   "version": "3.7.3"
  }
 },
 "nbformat": 4,
 "nbformat_minor": 2
}
